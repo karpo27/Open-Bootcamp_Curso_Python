{
 "cells": [
  {
   "cell_type": "code",
   "execution_count": 16,
   "id": "928aae2e",
   "metadata": {},
   "outputs": [
    {
     "name": "stderr",
     "output_type": "stream",
     "text": [
      "C:\\Users\\julia\\anaconda3\\lib\\site-packages\\sklearn\\base.py:450: UserWarning: X does not have valid feature names, but DecisionTreeClassifier was fitted with feature names\n",
      "  warnings.warn(\n"
     ]
    },
    {
     "data": {
      "text/plain": [
       "array(['Football', 'Basket'], dtype=object)"
      ]
     },
     "execution_count": 16,
     "metadata": {},
     "output_type": "execute_result"
    }
   ],
   "source": [
    "import sqlite3\n",
    "\n",
    "#kaggle.com para datasets\n",
    "\n",
    "import pandas as pd\n",
    "import joblib\n",
    "from sklearn.tree import DecisionTreeClassifier\n",
    "\n",
    "#dataset = pd.read_csv('deportes.csv')\n",
    "#inputs = dataset.drop(columns=['deporte'])\n",
    "#outputs = dataset['deporte']\n",
    "\n",
    "#modelo = DecisionTreeClassifier()\n",
    "#modelo.fit(inputs, outputs)\n",
    "\n",
    "#joblib.dump(modelo, 'deportes-editado.joblib')\n",
    "\n",
    "modelo = joblib.load('deportes-editado.joblib')\n",
    "\n",
    "predicciones = modelo.predict([[1, 24], [2, 33]])\n",
    "predicciones"
   ]
  },
  {
   "cell_type": "code",
   "execution_count": null,
   "id": "c443e7c1",
   "metadata": {},
   "outputs": [],
   "source": []
  },
  {
   "cell_type": "code",
   "execution_count": null,
   "id": "f943e790",
   "metadata": {},
   "outputs": [],
   "source": []
  }
 ],
 "metadata": {
  "kernelspec": {
   "display_name": "Python 3 (ipykernel)",
   "language": "python",
   "name": "python3"
  },
  "language_info": {
   "codemirror_mode": {
    "name": "ipython",
    "version": 3
   },
   "file_extension": ".py",
   "mimetype": "text/x-python",
   "name": "python",
   "nbconvert_exporter": "python",
   "pygments_lexer": "ipython3",
   "version": "3.9.12"
  }
 },
 "nbformat": 4,
 "nbformat_minor": 5
}
